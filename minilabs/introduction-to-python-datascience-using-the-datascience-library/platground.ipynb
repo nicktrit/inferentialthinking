{
 "cells": [
  {
   "cell_type": "code",
   "execution_count": 2,
   "metadata": {},
   "outputs": [],
   "source": [
    "from datascience import *\n",
    "import numpy as np\n",
    "path_data = '/workspaces/inferentialthinking/data/'\n",
    "np.set_printoptions(threshold=50)"
   ]
  },
  {
   "cell_type": "code",
   "execution_count": 4,
   "metadata": {},
   "outputs": [
    {
     "output_type": "execute_result",
     "data": {
      "text/plain": "PLAYER           | POSITION | TEAM          | '15-'16 SALARY\nPaul Millsap     | PF       | Atlanta Hawks | 18.6717\nAl Horford       | C        | Atlanta Hawks | 12\nTiago Splitter   | C        | Atlanta Hawks | 9.75625\nJeff Teague      | PG       | Atlanta Hawks | 8\nKyle Korver      | SG       | Atlanta Hawks | 5.74648\nThabo Sefolosha  | SF       | Atlanta Hawks | 4\nMike Scott       | PF       | Atlanta Hawks | 3.33333\nKent Bazemore    | SF       | Atlanta Hawks | 2\nDennis Schroder  | PG       | Atlanta Hawks | 1.7634\nTim Hardaway Jr. | SG       | Atlanta Hawks | 1.30452\n... (407 rows omitted)",
      "text/html": "<table border=\"1\" class=\"dataframe\">\n    <thead>\n        <tr>\n            <th>PLAYER</th> <th>POSITION</th> <th>TEAM</th> <th>'15-'16 SALARY</th>\n        </tr>\n    </thead>\n    <tbody>\n        <tr>\n            <td>Paul Millsap    </td> <td>PF      </td> <td>Atlanta Hawks</td> <td>18.6717       </td>\n        </tr>\n        <tr>\n            <td>Al Horford      </td> <td>C       </td> <td>Atlanta Hawks</td> <td>12            </td>\n        </tr>\n        <tr>\n            <td>Tiago Splitter  </td> <td>C       </td> <td>Atlanta Hawks</td> <td>9.75625       </td>\n        </tr>\n        <tr>\n            <td>Jeff Teague     </td> <td>PG      </td> <td>Atlanta Hawks</td> <td>8             </td>\n        </tr>\n        <tr>\n            <td>Kyle Korver     </td> <td>SG      </td> <td>Atlanta Hawks</td> <td>5.74648       </td>\n        </tr>\n        <tr>\n            <td>Thabo Sefolosha </td> <td>SF      </td> <td>Atlanta Hawks</td> <td>4             </td>\n        </tr>\n        <tr>\n            <td>Mike Scott      </td> <td>PF      </td> <td>Atlanta Hawks</td> <td>3.33333       </td>\n        </tr>\n        <tr>\n            <td>Kent Bazemore   </td> <td>SF      </td> <td>Atlanta Hawks</td> <td>2             </td>\n        </tr>\n        <tr>\n            <td>Dennis Schroder </td> <td>PG      </td> <td>Atlanta Hawks</td> <td>1.7634        </td>\n        </tr>\n        <tr>\n            <td>Tim Hardaway Jr.</td> <td>SG      </td> <td>Atlanta Hawks</td> <td>1.30452       </td>\n        </tr>\n    </tbody>\n</table>\n<p>... (407 rows omitted)</p>"
     },
     "metadata": {},
     "execution_count": 4
    }
   ],
   "source": [
    "nba_salaries = Table.read_table(path_data + 'nba_salaries.csv')\n",
    "nba_salaries"
   ]
  },
  {
   "cell_type": "code",
   "execution_count": null,
   "metadata": {},
   "outputs": [],
   "source": []
  }
 ],
 "metadata": {
  "language_info": {
   "codemirror_mode": {
    "name": "ipython",
    "version": 3
   },
   "file_extension": ".py",
   "mimetype": "text/x-python",
   "name": "python",
   "nbconvert_exporter": "python",
   "pygments_lexer": "ipython3",
   "version": "3.7.6-final"
  },
  "orig_nbformat": 2,
  "kernelspec": {
   "name": "python3",
   "display_name": "Python 3"
  }
 },
 "nbformat": 4,
 "nbformat_minor": 2
}